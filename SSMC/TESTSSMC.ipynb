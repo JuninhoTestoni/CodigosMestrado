{
 "cells": [
  {
   "cell_type": "code",
   "execution_count": 1,
   "id": "d89378b8-8a00-4421-81c4-331a140aa547",
   "metadata": {},
   "outputs": [],
   "source": [
    "begin\n",
    "    include(\"../src/utilitarios.jl\")\n",
    "    include(\"../src/RCRM.jl\")\n",
    "    include(\"../src/RDRM.jl\")\n",
    "    include(\"../src/RK.jl\")\n",
    "    include(\"../src/RandBlock_CRM.jl\")  \n",
    "    include(\"../src/RrDRM.jl\")  \n",
    "    include(\"../src/Blockwise.jl\")\n",
    "    using Downloads, Tar, MatrixMarket, SparseArrays,  PGFPlotsX, Plots, DataFrames, CSV, SuiteSparseMatrixCollection\n",
    "    # Para gráficos melhores, descomente a próxima linha\n",
    "    # pgfplotsx()\n",
    "end"
   ]
  },
  {
   "cell_type": "code",
   "execution_count": 6,
   "id": "7e4d6c38-9ff2-4171-9fdc-d5d872fbac87",
   "metadata": {},
   "outputs": [
    {
     "name": "stderr",
     "output_type": "stream",
     "text": [
      "\u001b[36m\u001b[1m┌ \u001b[22m\u001b[39m\u001b[36m\u001b[1mInfo: \u001b[22m\u001b[39mloaded database with revision date\n",
      "\u001b[36m\u001b[1m└ \u001b[22m\u001b[39m  last_rev_date = \"08-Oct-2020 17:09:58\"\n"
     ]
    },
    {
     "data": {
      "text/plain": [
       "798×362 Transpose{Float64, SparseMatrixCSC{Float64, Int64}} with 3028 stored entries:\n",
       "⎡⠻⣿⣟⠇⡿⣀⠿⠀⣿⡀⠀⠀⠀⠀⠀⠀⠀⠀⠀⠀⠀⠀⠀⠀⎤\n",
       "⎢⠀⡿⠤⠄⠅⠏⢾⡿⡿⢧⠀⠀⠀⠀⠀⠀⠀⠀⠀⠀⠀⠀⠀⠀⎥\n",
       "⎢⠀⣿⣷⠀⠀⠀⠀⠀⠀⠸⡄⠀⠀⠀⠀⠀⠀⠀⠀⠀⠀⠀⠀⠀⎥\n",
       "⎢⠀⠻⢻⣤⠆⠀⠀⠀⠀⠀⡇⠀⠀⠀⠀⠀⠀⠀⠀⠀⠀⠀⠀⠀⎥\n",
       "⎢⠀⠀⠀⠻⣇⣀⡀⣀⠀⠀⢇⠀⠀⠀⠀⠀⠀⠀⠀⠀⠀⠀⠀⠀⎥\n",
       "⎢⠀⠀⠀⠄⡿⣼⡇⠐⠀⠀⢸⡀⠀⠀⠀⠀⠀⠀⠀⠀⠀⠀⠀⠀⎥\n",
       "⎢⠀⡀⠀⠀⡇⠛⢧⣤⡆⠀⠀⣇⠀⠀⠀⠀⠀⠀⠀⠀⠀⠀⠀⠀⎥\n",
       "⎢⠀⠀⠀⠀⠃⠀⠙⠘⠃⠀⠀⠸⣶⣶⣰⢰⡆⢰⡆⢰⣆⠀⠀⠀⎥\n",
       "⎢⠀⠀⠀⠀⠀⠀⠀⠀⠀⠀⠀⠀⢸⡯⠥⢸⢸⢸⣶⣾⡿⡄⠀⠀⎥\n",
       "⎢⠀⠀⠀⠀⠀⠀⠀⠀⠀⠀⠀⠀⢸⣿⡄⠀⠀⠀⠉⠈⠀⢧⠀⠀⎥\n",
       "⎢⠀⠀⠀⠀⠀⠀⠀⠀⠀⠀⠀⠀⠘⠧⢧⣠⠀⠀⠀⠀⠀⢸⠀⠀⎥\n",
       "⎢⠀⠀⠀⠀⠀⠀⠀⠀⠀⠀⠀⠀⠀⠀⠸⣷⠀⣀⢀⠀⠀⢸⡀⠀⎥\n",
       "⎢⠀⠀⠀⠀⠀⠀⠀⠀⠀⠀⠀⠀⠀⠀⠠⢼⣏⢿⠈⠅⠀⠀⡇⠀⎥\n",
       "⎢⠀⠀⠀⠀⠀⠀⠀⠀⠀⠀⠀⠀⠀⠀⠀⢸⠸⢿⣤⣠⠀⠀⢹⠀⎥\n",
       "⎢⢦⡀⠀⠀⠀⠀⠀⠀⠀⠀⠀⠰⣌⠀⠀⠘⠀⠘⠋⠓⠀⠀⠀⠃⎥\n",
       "⎢⠀⠙⢦⡀⠀⠀⠀⠀⠀⠀⠀⠀⠈⠱⣄⠀⠀⠀⠀⠀⠀⠀⠀⠀⎥\n",
       "⎢⠀⠀⠀⠙⢦⡀⠀⠀⠀⠀⠀⠀⠀⠀⠈⠳⣄⠀⠀⠀⠀⠀⠀⠀⎥\n",
       "⎢⠀⠀⠀⠀⠀⠙⢦⡀⠀⠀⠀⠀⠀⠀⠀⠀⠈⠳⣄⠀⠀⠀⠀⠀⎥\n",
       "⎢⠀⠀⠀⠀⠀⠀⠀⠙⢦⡀⠀⠀⠀⠀⠀⠀⠀⠀⠈⠓⠄⠀⠀⠀⎥\n",
       "⎢⠀⠀⠀⠀⠀⠀⠀⠀⠀⠙⢦⡀⠀⠀⠀⠀⠀⠀⠀⠀⠀⠀⠀⠀⎥\n",
       "⎢⠀⠀⠀⠀⠀⠀⠀⠀⠀⠀⠀⠙⢦⣀⠀⠀⠀⠀⠀⠀⠀⠀⠀⠀⎥\n",
       "⎢⠀⠀⠀⠀⠀⠀⠀⠀⠀⠀⠀⠀⠀⠈⠢⡀⠀⠀⠀⠀⠀⠀⠀⠀⎥\n",
       "⎢⠀⠀⠀⠀⠀⠀⠀⠀⠀⠀⠀⠀⠀⠀⠀⠘⠦⡀⠀⠀⠀⠀⠀⠀⎥\n",
       "⎢⠀⠀⠀⠀⠀⠀⠀⠀⠀⠀⠀⠀⠀⠀⠀⠀⠀⠘⢦⡀⠀⠀⠀⠀⎥\n",
       "⎢⠀⠀⠀⠀⠀⠀⠀⠀⠀⠀⠀⠀⠀⠀⠀⠀⠀⠀⠀⠈⠳⡄⠀⠀⎥\n",
       "⎣⠀⠀⠀⠀⠀⠀⠀⠀⠀⠀⠀⠀⠀⠀⠀⠀⠀⠀⠀⠀⠀⠈⠢⡀⎦"
      ]
     },
     "execution_count": 6,
     "metadata": {},
     "output_type": "execute_result"
    },
    {
     "ename": "KeyError",
     "evalue": "KeyError: key \"usage_request\" not found",
     "output_type": "error",
     "traceback": [
      "KERNEL EXCEPTION",
      "KeyError: key \"usage_request\" not found",
      "",
      "Stacktrace:",
      " [1] getindex(h::Dict{String, Function}, key::String)",
      "   @ Base ./dict.jl:498",
      " [2] eventloop(socket::ZMQ.Socket)",
      "   @ IJulia /home/lrsantos/packages/julias/julia-1.10/local/share/julia/packages/IJulia/Vo51o/src/eventloop.jl:8",
      " [3] (::IJulia.var\"#14#17\")()",
      "   @ IJulia /home/lrsantos/packages/julias/julia-1.10/local/share/julia/packages/IJulia/Vo51o/src/eventloop.jl:37"
     ]
    }
   ],
   "source": [
    "begin # Para baixar as matrizes use os seguintes comandos\n",
    "    matrix_group = \"Meszaros\"     # Define o grupo da matriz\n",
    "    matrix_name = \"model1\"        # Define o nome da matriz\n",
    "    ssmc = ssmc_db()              # Inicializa o banco de dados local da SuiteSparse\n",
    "    ssmc_matrices(ssmc, matrix_group, matrix_name) \n",
    "    paths = fetch_ssmc(ssmc_matrices(ssmc, matrix_group, matrix_name), format=\"MM\")  # Baixa a matriz no formato Matrix Market\n",
    "    downloaded_files = installed_ssmc()\n",
    "    path = paths[1]\n",
    "    matrix_name = readdir(path)[1]\n",
    "    T = Float64\n",
    "    M = float.(mmread(path * \"/\" * matrix_name))\n",
    "    A =  M[findall(row -> any(x -> x != 0, row), eachrow(M)), :] #Tira as linhas de zeros\n",
    "    num_rows, num_cols = size(A)\n",
    "    if num_rows < num_cols\n",
    "        A = transpose(A) ### Se a matriz tem mais colunas, tomamos A^T para garantir o sistema sobredeterminado\n",
    "        num_rows, num_cols = size(A)\n",
    "    end\n",
    "    w = rand(num_rows)  ## Cria vetor com distribuição gaussiana.\n",
    "    x̄ = A'*w / norm(A'*w) ## Cria uma solução que depende do vetor aleatório.\n",
    "    b = A*x̄ ## Define o lado direito do sistema linear.\n",
    "    peso = peso_Vershynin(Matrix(A)) # Calcula a probabilidade da norma da linha em relação a norma da matrix ||a_i||^2/||A||_F^2\n",
    "    A\n",
    "end"
   ]
  },
  {
   "cell_type": "code",
   "execution_count": 3,
   "id": "090be4cf-7425-41d8-ba9d-a5b77e85e610",
   "metadata": {},
   "outputs": [
    {
     "data": {
      "text/plain": [
       "Testes_Matrix (generic function with 1 method)"
      ]
     },
     "execution_count": 3,
     "metadata": {},
     "output_type": "execute_result"
    }
   ],
   "source": [
    "function Testes_Matrix(matrix_group, matrix_name, vec_met, vec_r, tol)\n",
    "    df = DataFrame(Metodo = String[], time = Float64[], iter =Float64[], tol = Float64[],\n",
    "                   numproj = Float64[], count_error = Float64[])\n",
    "    ssmc = ssmc_db()\n",
    "    ssmc_matrices(ssmc, matrix_group, matrix_name) \n",
    "    paths =  fetch_ssmc(ssmc_matrices(ssmc, matrix_group, matrix_name), format=\"MM\")\n",
    "    downloaded_files = installed_ssmc()\n",
    "    path = paths[1]\n",
    "    matrix_name = readdir(path)[1]\n",
    "    T = Float64\n",
    "    M = float.(mmread(path * \"/\" * matrix_name))\n",
    "    A =  M[findall(row -> any(x -> x != 0, row), eachrow(M)), :] \n",
    "    num_rows, num_cols = size(A)\n",
    "    if num_rows < num_cols\n",
    "        A = transpose(A) ### Se a matriz tem mais colunas, tomamos A^T para garantir o sistema sobredeterminado\n",
    "        num_rows, num_cols = size(A)\n",
    "    end\n",
    "    x0 = ones(num_cols) ## Cria chute inicial, nesse caso, vetor de uns.\n",
    "    peso = peso_Vershynin(A) # Calcula a probabilidade da norma da linha em relação a norma da matrix ||a_i||^2/||A||_F^2\n",
    "\n",
    "    for r in vec_r\n",
    "        for met in vec_met\n",
    "        \tTempo = Float64[]\n",
    "            Iter = Float64[]\n",
    "            Tol = Float64[]\n",
    "            CE = Float64[]\n",
    "            NP = Float64[]\n",
    "            for i = 1:20\n",
    "                Random.seed!(i)\n",
    "                w = rand(num_rows)  ## Cria vetor com distribuição gaussiana.\n",
    "                x̄ = A'*w / norm(A'*w) ## Cria uma solução que depende do vetor aleatório.\n",
    "                b = A*x̄ ## Define o lado direito do sistema linear.\n",
    "                \n",
    "        \t\tT = @belapsed $met($A,$x0,$b,$r,$x̄; itmax = 100000, ϵ = tol , pesos = $peso, true_error = true)\n",
    "                # Mede o tempo de execução.\n",
    "        \t\t_, it, tol, numproj, count_error = met(A,x0,b,r,x̄; itmax = 100000, ϵ = tol, pesos = peso, true_error = true)\n",
    "                #Salva as informações dos testes\n",
    "                push!(Tempo, T)\n",
    "                push!(Iter, it)\n",
    "                push!(Tol, tol)\n",
    "                push!(CE, count_error)\n",
    "                push!(NP, numproj)\n",
    "            end\n",
    "            println(\"$(met)_$(r) terminou\") # Aviso que o método terminou.\n",
    "    \t\tpush!(df, [\"$(met)_$(r)\", mean(Tempo), mean(Iter), mean(Tol), mean(NP), mean(CE)])\n",
    "            CSV.write(\"./SSMC/test_$(matrixname)_1e-12_$(met)_$(r).csv\", df) # Salvo o DataFrames\n",
    "        end\n",
    "\tend\n",
    "\treturn println(\"Acabou\")\n",
    "end"
   ]
  },
  {
   "cell_type": "code",
   "execution_count": 35,
   "id": "03e743d5-1ebd-40d6-9510-fac103a3584f",
   "metadata": {},
   "outputs": [
    {
     "name": "stderr",
     "output_type": "stream",
     "text": [
      "\u001b[36m\u001b[1m┌ \u001b[22m\u001b[39m\u001b[36m\u001b[1mInfo: \u001b[22m\u001b[39mloaded database with revision date\n",
      "\u001b[36m\u001b[1m└ \u001b[22m\u001b[39m  last_rev_date = \"08-Oct-2020 17:09:58\"\n"
     ]
    },
    {
     "ename": "LoadError",
     "evalue": "InterruptException:",
     "output_type": "error",
     "traceback": [
      "InterruptException:",
      "",
      "Stacktrace:",
      "  [1] gc (repeats 2 times)",
      "    @ ./gcutils.jl:129 [inlined]",
      "  [2] gcscrub",
      "    @ ~/.julia/packages/BenchmarkTools/QNsku/src/execution.jl:6 [inlined]",
      "  [3] _run(b::BenchmarkTools.Benchmark, p::BenchmarkTools.Parameters; verbose::Bool, pad::String, warmup::Bool, kwargs::@Kwargs{})",
      "    @ BenchmarkTools ~/.julia/packages/BenchmarkTools/QNsku/src/execution.jl:112",
      "  [4] #invokelatest#2",
      "    @ ./essentials.jl:894 [inlined]",
      "  [5] invokelatest",
      "    @ ./essentials.jl:889 [inlined]",
      "  [6] #run_result#45",
      "    @ ~/.julia/packages/BenchmarkTools/QNsku/src/execution.jl:48 [inlined]",
      "  [7] run_result",
      "    @ ~/.julia/packages/BenchmarkTools/QNsku/src/execution.jl:47 [inlined]",
      "  [8] run(b::BenchmarkTools.Benchmark, p::BenchmarkTools.Parameters; progressid::Nothing, nleaves::Float64, ndone::Float64, kwargs::@Kwargs{warmup::Bool})",
      "    @ BenchmarkTools ~/.julia/packages/BenchmarkTools/QNsku/src/execution.jl:144",
      "  [9] run (repeats 2 times)",
      "    @ ~/.julia/packages/BenchmarkTools/QNsku/src/execution.jl:136 [inlined]",
      " [10] macro expansion",
      "    @ ~/.julia/packages/BenchmarkTools/QNsku/src/execution.jl:448 [inlined]",
      " [11] Testes_Matrix(matrix_group::String, matrix_name::String, vec_met::Vector{Function}, vec_r::Vector{Int64})",
      "    @ Main ./In[34]:34",
      " [12] top-level scope",
      "    @ In[35]:6"
     ]
    }
   ],
   "source": [
    "begin\n",
    "    matrix_group = \"Meszaros\"  ## Exemplo\n",
    "    matrix_name = \"model1\"     ## Exemplo\n",
    "    vec_met = [Randblock_CRM, BlockwiseCRM, Rand_CRM_rsets, Rand_DRM_rsets, Rand_mDRM_rsets, Rand_Kaczmarz] # Vetor com os métodos\n",
    "    vec_r = [2,3,5,10,20,50] # Vetor com os valores de r\n",
    "    tol = 1e-6 # Define a tolerância desejada.\n",
    "    Testes_Matrix(matrix_group, matrix_name, vec_met, vec_r, tol) \n",
    "    # inicia o teste com a matriz, os métodos e o valor de r selecionados\n",
    "end"
   ]
  },
  {
   "cell_type": "code",
   "execution_count": null,
   "id": "cdbad340-c412-420c-a7f5-08a4088283bb",
   "metadata": {},
   "outputs": [],
   "source": []
  }
 ],
 "metadata": {
  "kernelspec": {
   "display_name": "Julia 1.10.3",
   "language": "julia",
   "name": "julia-1.10"
  },
  "language_info": {
   "file_extension": ".jl",
   "mimetype": "application/julia",
   "name": "julia",
   "version": "1.10.3"
  }
 },
 "nbformat": 4,
 "nbformat_minor": 5
}
